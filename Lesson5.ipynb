{
 "cells": [
  {
   "cell_type": "markdown",
   "metadata": {},
   "source": [
    "#### *Lesson 5*\n",
    "# Prefix Sums"
   ]
  },
  {
   "cell_type": "markdown",
   "metadata": {},
   "source": [
    "**Task 1: CountDiv**\n",
    "\n",
    "Write a function:\n",
    "\n",
    "```python\n",
    "def solution(A, B, K)\n",
    "```\n",
    "\n",
    "that, given three integers A, B and K, returns the number of integers within the range [A..B] that are divisible by K, i.e.:\n",
    "\n",
    "    { i : A ≤ i ≤ B, i mod K = 0 }\n",
    "\n",
    "For example, for A = 6, B = 11 and K = 2, your function should return 3, because there are three numbers divisible by 2 within the range [6..11], namely 6, 8 and 10.\n",
    "\n",
    "Assume that:\n",
    "\n",
    "* A and B are integers within the range [0..2,000,000,000];\n",
    "* K is an integer within the range [1..2,000,000,000];\n",
    "* A ≤ B.\n",
    "\n",
    "Complexity:\n",
    "\n",
    "* expected worst-case time complexity is O(1);\n",
    "* expected worst-case space complexity is O(1).\n",
    "\n",
    "*Copyright 2009–2016 by Codility Limited. All Rights Reserved. Unauthorized copying, publication or disclosure prohibited.*"
   ]
  },
  {
   "cell_type": "markdown",
   "metadata": {},
   "source": [
    "**Solution (test score: 100%):**"
   ]
  },
  {
   "cell_type": "code",
   "execution_count": 2,
   "metadata": {
    "collapsed": true
   },
   "outputs": [],
   "source": [
    "def solution(A, B, K):\n",
    "    return B // K - A // K + 1 if (A / float(K)).is_integer() else B // K - A // K"
   ]
  },
  {
   "cell_type": "markdown",
   "metadata": {},
   "source": [
    "Detected time complexity: **O(1)**"
   ]
  },
  {
   "cell_type": "markdown",
   "metadata": {},
   "source": [
    "**Examples:**"
   ]
  },
  {
   "cell_type": "code",
   "execution_count": 3,
   "metadata": {
    "collapsed": false
   },
   "outputs": [
    {
     "data": {
      "text/plain": [
       "3"
      ]
     },
     "execution_count": 3,
     "metadata": {},
     "output_type": "execute_result"
    }
   ],
   "source": [
    "solution(6, 11, 2)"
   ]
  },
  {
   "cell_type": "code",
   "execution_count": 4,
   "metadata": {
    "collapsed": false
   },
   "outputs": [
    {
     "data": {
      "text/plain": [
       "20"
      ]
     },
     "execution_count": 4,
     "metadata": {},
     "output_type": "execute_result"
    }
   ],
   "source": [
    "solution(11, 345, 17)"
   ]
  },
  {
   "cell_type": "code",
   "execution_count": 8,
   "metadata": {
    "collapsed": false
   },
   "outputs": [
    {
     "data": {
      "text/plain": [
       "0"
      ]
     },
     "execution_count": 8,
     "metadata": {},
     "output_type": "execute_result"
    }
   ],
   "source": [
    "solution(1, 1, 11)"
   ]
  },
  {
   "cell_type": "markdown",
   "metadata": {},
   "source": [
    "**Task 2: PassingCars**\n",
    "\n",
    "A non-empty zero-indexed array A consisting of N integers is given. The consecutive elements of array A represent consecutive cars on a road.\n",
    "\n",
    "Array A contains only 0s and/or 1s:\n",
    "\n",
    "* 0 represents a car traveling east,\n",
    "* 1 represents a car traveling west.\n",
    "\n",
    "The goal is to count passing cars. We say that a pair of cars (P, Q), where 0 ≤ P < Q < N, is passing when P is traveling to the east and Q is traveling to the west.\n",
    "\n",
    "For example, consider array A such that:\n",
    "\n",
    "    A[0] = 0\n",
    "    A[1] = 1\n",
    "    A[2] = 0\n",
    "    A[3] = 1\n",
    "    A[4] = 1\n",
    "\n",
    "We have five pairs of passing cars: (0, 1), (0, 3), (0, 4), (2, 3), (2, 4).\n",
    "\n",
    "Write a function:\n",
    "\n",
    "```python\n",
    "def solution(A)\n",
    "```\n",
    "\n",
    "that, given a non-empty zero-indexed array A of N integers, returns the number of pairs of passing cars.\n",
    "\n",
    "The function should return −1 if the number of pairs of passing cars exceeds 1,000,000,000.\n",
    "\n",
    "For example, given:\n",
    "\n",
    "    A[0] = 0\n",
    "    A[1] = 1\n",
    "    A[2] = 0\n",
    "    A[3] = 1\n",
    "    A[4] = 1\n",
    "\n",
    "the function should return 5, as explained above.\n",
    "\n",
    "Assume that:\n",
    "\n",
    "* N is an integer within the range [1..100,000];\n",
    "* each element of array A is an integer that can have one of the following values: 0, 1.\n",
    "\n",
    "Complexity:\n",
    "\n",
    "* expected worst-case time complexity is O(N);\n",
    "* expected worst-case space complexity is O(1), beyond input storage (not counting the storage required for input arguments).\n",
    "\n",
    "Elements of input arrays can be modified.\n",
    "\n",
    "*Copyright 2009–2016 by Codility Limited. All Rights Reserved. Unauthorized copying, publication or disclosure prohibited.*"
   ]
  },
  {
   "cell_type": "markdown",
   "metadata": {},
   "source": [
    "**Solution (test score: 100%):**"
   ]
  },
  {
   "cell_type": "code",
   "execution_count": 9,
   "metadata": {
    "collapsed": true
   },
   "outputs": [],
   "source": [
    "def solution(A):\n",
    "    counter = 0\n",
    "    counter_0 = 0\n",
    "    counter_1 = 0\n",
    "    for i in xrange(len(A)):\n",
    "        if A[i] == 0:\n",
    "            counter_0 += 1\n",
    "            counter += counter_1 * (counter_0 - 1)\n",
    "            counter_1 = 0\n",
    "        elif counter_0 > 0 and A[i] == 1:\n",
    "            counter_1 += 1\n",
    "    if counter_1 != 0:\n",
    "        counter += counter_1 * counter_0\n",
    "    return counter if counter <= 1000000000 else -1"
   ]
  },
  {
   "cell_type": "markdown",
   "metadata": {},
   "source": [
    "Detected time complexity: **O(N)**"
   ]
  },
  {
   "cell_type": "markdown",
   "metadata": {},
   "source": [
    "**Examples:**"
   ]
  },
  {
   "cell_type": "code",
   "execution_count": 10,
   "metadata": {
    "collapsed": false
   },
   "outputs": [
    {
     "data": {
      "text/plain": [
       "5"
      ]
     },
     "execution_count": 10,
     "metadata": {},
     "output_type": "execute_result"
    }
   ],
   "source": [
    "solution([0, 1, 0, 1, 1])"
   ]
  },
  {
   "cell_type": "code",
   "execution_count": 11,
   "metadata": {
    "collapsed": false
   },
   "outputs": [
    {
     "data": {
      "text/plain": [
       "0"
      ]
     },
     "execution_count": 11,
     "metadata": {},
     "output_type": "execute_result"
    }
   ],
   "source": [
    "solution([1, 1])"
   ]
  },
  {
   "cell_type": "code",
   "execution_count": 12,
   "metadata": {
    "collapsed": false
   },
   "outputs": [
    {
     "data": {
      "text/plain": [
       "1"
      ]
     },
     "execution_count": 12,
     "metadata": {},
     "output_type": "execute_result"
    }
   ],
   "source": [
    "solution([0, 1])"
   ]
  },
  {
   "cell_type": "code",
   "execution_count": 13,
   "metadata": {
    "collapsed": false
   },
   "outputs": [
    {
     "data": {
      "text/plain": [
       "15"
      ]
     },
     "execution_count": 13,
     "metadata": {},
     "output_type": "execute_result"
    }
   ],
   "source": [
    "solution([1, 0, 1, 0, 1, 0, 1, 0, 1, 0, 1])"
   ]
  }
 ],
 "metadata": {
  "kernelspec": {
   "display_name": "Python 2",
   "language": "python",
   "name": "python2"
  },
  "language_info": {
   "codemirror_mode": {
    "name": "ipython",
    "version": 2
   },
   "file_extension": ".py",
   "mimetype": "text/x-python",
   "name": "python",
   "nbconvert_exporter": "python",
   "pygments_lexer": "ipython2",
   "version": "2.7.12"
  }
 },
 "nbformat": 4,
 "nbformat_minor": 1
}
