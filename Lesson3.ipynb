{
 "cells": [
  {
   "cell_type": "markdown",
   "metadata": {},
   "source": [
    "#### *Lesson 3*\n",
    "# Time Complexity"
   ]
  },
  {
   "cell_type": "markdown",
   "metadata": {},
   "source": [
    "**Task 1: TapeEquilibrium**\n",
    "\n",
    "A non-empty zero-indexed array A consisting of N integers is given. Array A represents numbers on a tape.\n",
    "\n",
    "Any integer P, such that 0 < P < N, splits this tape into two non-empty parts: A[0], A[1], ..., A[P − 1] and A[P], A[P + 1], ..., A[N − 1].\n",
    "\n",
    "The difference between the two parts is the value of: |(A[0] + A[1] + ... + A[P − 1]) − (A[P] + A[P + 1] + ... + A[N − 1])|\n",
    "\n",
    "In other words, it is the absolute difference between the sum of the first part and the sum of the second part.\n",
    "\n",
    "For example, consider array A such that:\n",
    "\n",
    "  A[0] = 3\n",
    "  A[1] = 1\n",
    "  A[2] = 2\n",
    "  A[3] = 4\n",
    "  A[4] = 3\n",
    "  \n",
    "We can split this tape in four places:\n",
    "\n",
    "* P = 1, difference = |3 − 10| = 7 \n",
    "* P = 2, difference = |4 − 9| = 5 \n",
    "* P = 3, difference = |6 − 7| = 1 \n",
    "* P = 4, difference = |10 − 3| = 7\n",
    "\n",
    "Write a function:\n",
    "\n",
    "```python\n",
    "def solution(A)\n",
    "```\n",
    "\n",
    "that, given a non-empty zero-indexed array A of N integers, returns the minimal difference that can be achieved.\n",
    "\n",
    "For example, given:\n",
    "\n",
    "  A[0] = 3\n",
    "  A[1] = 1\n",
    "  A[2] = 2\n",
    "  A[3] = 4\n",
    "  A[4] = 3\n",
    "\n",
    "the function should return 1, as explained above.\n",
    "\n",
    "Assume that:\n",
    "\n",
    "* N is an integer within the range [2..100,000];\n",
    "* each element of array A is an integer within the range [−1,000..1,000].\n",
    "\n",
    "Complexity:\n",
    "\n",
    "* expected worst-case time complexity is O(N);\n",
    "* expected worst-case space complexity is O(N), beyond input storage (not counting the storage required for input arguments).\n",
    "\n",
    "Elements of input arrays can be modified.\n",
    "\n",
    "*Copyright 2009–2016 by Codility Limited. All Rights Reserved. Unauthorized copying, publication or disclosure prohibited.*"
   ]
  },
  {
   "cell_type": "markdown",
   "metadata": {},
   "source": [
    "**Solution (test score: 100%):**"
   ]
  },
  {
   "cell_type": "code",
   "execution_count": 1,
   "metadata": {
    "collapsed": true
   },
   "outputs": [],
   "source": [
    "def solution(A):\n",
    "    sum1 = [0] * (len(A) - 1)\n",
    "    sum2 = [0] * (len(A) - 1)\n",
    "    sum1[0] = A[0]\n",
    "    sum2[len(sum2) - 1] = A[len(A) - 1]\n",
    "    for i in xrange(1, len(A) - 1):\n",
    "        sum1[i] = sum1[i - 1] + A[i]\n",
    "        sum2[len(A) - 2 - i] = sum2[len(A) - 1 - i] + A[len(A) - 1- i]\n",
    "    min_abs = abs(sum1[0] - sum2[0])\n",
    "    for i in xrange(1, len(sum1)):\n",
    "        min_abs = abs(sum1[i] - sum2[i]) if abs(sum1[i] - sum2[i]) < min_abs else min_abs\n",
    "    return min_abs"
   ]
  },
  {
   "cell_type": "markdown",
   "metadata": {},
   "source": [
    "Detected time complexity: **O(N)**"
   ]
  },
  {
   "cell_type": "markdown",
   "metadata": {},
   "source": [
    "**Examples:**"
   ]
  },
  {
   "cell_type": "code",
   "execution_count": 2,
   "metadata": {
    "collapsed": false
   },
   "outputs": [
    {
     "data": {
      "text/plain": [
       "1"
      ]
     },
     "execution_count": 2,
     "metadata": {},
     "output_type": "execute_result"
    }
   ],
   "source": [
    "solution([3, 1, 2, 4, 3])"
   ]
  },
  {
   "cell_type": "code",
   "execution_count": 3,
   "metadata": {
    "collapsed": false
   },
   "outputs": [
    {
     "data": {
      "text/plain": [
       "2"
      ]
     },
     "execution_count": 3,
     "metadata": {},
     "output_type": "execute_result"
    }
   ],
   "source": [
    "solution([3, 5])"
   ]
  },
  {
   "cell_type": "markdown",
   "metadata": {},
   "source": [
    "**Task 2: FrogJmp**\n",
    "\n",
    "A small frog wants to get to the other side of the road. The frog is currently located at position X and wants to get to a position greater than or equal to Y. The small frog always jumps a fixed distance, D.\n",
    "\n",
    "Count the minimal number of jumps that the small frog must perform to reach its target.\n",
    "\n",
    "Write a function:\n",
    "\n",
    "```python\n",
    "def solution(X, Y, D)\n",
    "```\n",
    "\n",
    "that, given three integers X, Y and D, returns the minimal number of jumps from position X to a position equal to or greater than Y.\n",
    "\n",
    "For example, given:\n",
    "\n",
    "  X = 10\n",
    "  Y = 85\n",
    "  D = 30\n",
    "\n",
    "the function should return 3, because the frog will be positioned as follows:\n",
    "\n",
    "* after the first jump, at position 10 + 30 = 40\n",
    "* after the second jump, at position 10 + 30 + 30 = 70\n",
    "* after the third jump, at position 10 + 30 + 30 + 30 = 100\n",
    "\n",
    "Assume that:\n",
    "\n",
    "* X, Y and D are integers within the range [1..1,000,000,000];\n",
    "* X ≤ Y.\n",
    "\n",
    "Complexity:\n",
    "\n",
    "* expected worst-case time complexity is O(1);\n",
    "* expected worst-case space complexity is O(1).\n",
    "\n",
    "*Copyright 2009–2016 by Codility Limited. All Rights Reserved. Unauthorized copying, publication or disclosure prohibited.*"
   ]
  },
  {
   "cell_type": "markdown",
   "metadata": {},
   "source": [
    "**Solution (test score: 100%):**"
   ]
  },
  {
   "cell_type": "code",
   "execution_count": 5,
   "metadata": {
    "collapsed": true
   },
   "outputs": [],
   "source": [
    "def solution(X, Y, D):\n",
    "    return (Y - X) // D if ((Y - X) / float(D)).is_integer() else (Y - X) // D + 1"
   ]
  },
  {
   "cell_type": "markdown",
   "metadata": {},
   "source": [
    "Detected time complexity: **O(1)**"
   ]
  },
  {
   "cell_type": "markdown",
   "metadata": {},
   "source": [
    "**Examples:**"
   ]
  },
  {
   "cell_type": "code",
   "execution_count": 6,
   "metadata": {
    "collapsed": false
   },
   "outputs": [
    {
     "data": {
      "text/plain": [
       "3"
      ]
     },
     "execution_count": 6,
     "metadata": {},
     "output_type": "execute_result"
    }
   ],
   "source": [
    "solution(10, 85, 30)"
   ]
  },
  {
   "cell_type": "code",
   "execution_count": 7,
   "metadata": {
    "collapsed": false
   },
   "outputs": [
    {
     "data": {
      "text/plain": [
       "0"
      ]
     },
     "execution_count": 7,
     "metadata": {},
     "output_type": "execute_result"
    }
   ],
   "source": [
    "solution(20, 20, 5)"
   ]
  },
  {
   "cell_type": "code",
   "execution_count": 8,
   "metadata": {
    "collapsed": false
   },
   "outputs": [
    {
     "data": {
      "text/plain": [
       "1"
      ]
     },
     "execution_count": 8,
     "metadata": {},
     "output_type": "execute_result"
    }
   ],
   "source": [
    "solution(15, 35, 90)"
   ]
  },
  {
   "cell_type": "markdown",
   "metadata": {},
   "source": [
    "**Task 3: PermMissingElem**\n",
    "\n",
    "A zero-indexed array A consisting of N different integers is given. The array contains integers in the range [1..(N + 1)], which means that exactly one element is missing.\n",
    "\n",
    "Your goal is to find that missing element.\n",
    "\n",
    "Write a function:\n",
    "\n",
    "```python\n",
    "def solution(A)\n",
    "```\n",
    "\n",
    "that, given a zero-indexed array A, returns the value of the missing element.\n",
    "\n",
    "For example, given array A such that:\n",
    "\n",
    "  A[0] = 2\n",
    "  A[1] = 3\n",
    "  A[2] = 1\n",
    "  A[3] = 5\n",
    "\n",
    "the function should return 4, as it is the missing element.\n",
    "\n",
    "Assume that:\n",
    "\n",
    "* N is an integer within the range [0..100,000];\n",
    "* the elements of A are all distinct;\n",
    "* each element of array A is an integer within the range [1..(N + 1)].\n",
    "\n",
    "Complexity:\n",
    "\n",
    "* expected worst-case time complexity is O(N);\n",
    "* expected worst-case space complexity is O(1), beyond input storage (not counting the storage required for input arguments).\n",
    "\n",
    "Elements of input arrays can be modified.\n",
    "\n",
    "*Copyright 2009–2016 by Codility Limited. All Rights Reserved. Unauthorized copying, publication or disclosure prohibited.*"
   ]
  },
  {
   "cell_type": "markdown",
   "metadata": {},
   "source": [
    "**Solution**"
   ]
  },
  {
   "cell_type": "code",
   "execution_count": 9,
   "metadata": {
    "collapsed": true
   },
   "outputs": [],
   "source": [
    "def solution(A):\n",
    "    l = range(1, 100002)\n",
    "    A.sort()\n",
    "    for i in xrange(len(A)):\n",
    "        if l[i] != A[i]:\n",
    "            return l[i]\n",
    "    return l[len(A)]"
   ]
  },
  {
   "cell_type": "markdown",
   "metadata": {},
   "source": [
    "Detected time complexity: **O(N)** or **O(N * log(N))**"
   ]
  },
  {
   "cell_type": "markdown",
   "metadata": {},
   "source": [
    "**Examples:**"
   ]
  },
  {
   "cell_type": "code",
   "execution_count": 10,
   "metadata": {
    "collapsed": false
   },
   "outputs": [
    {
     "data": {
      "text/plain": [
       "4"
      ]
     },
     "execution_count": 10,
     "metadata": {},
     "output_type": "execute_result"
    }
   ],
   "source": [
    "solution([2, 3, 1, 5])"
   ]
  },
  {
   "cell_type": "code",
   "execution_count": 11,
   "metadata": {
    "collapsed": false
   },
   "outputs": [
    {
     "data": {
      "text/plain": [
       "1"
      ]
     },
     "execution_count": 11,
     "metadata": {},
     "output_type": "execute_result"
    }
   ],
   "source": [
    "solution([])"
   ]
  },
  {
   "cell_type": "code",
   "execution_count": 12,
   "metadata": {
    "collapsed": false
   },
   "outputs": [
    {
     "data": {
      "text/plain": [
       "1"
      ]
     },
     "execution_count": 12,
     "metadata": {},
     "output_type": "execute_result"
    }
   ],
   "source": [
    "solution([2])"
   ]
  },
  {
   "cell_type": "code",
   "execution_count": 13,
   "metadata": {
    "collapsed": false
   },
   "outputs": [
    {
     "data": {
      "text/plain": [
       "3"
      ]
     },
     "execution_count": 13,
     "metadata": {},
     "output_type": "execute_result"
    }
   ],
   "source": [
    "solution([1, 2])"
   ]
  }
 ],
 "metadata": {
  "kernelspec": {
   "display_name": "Python 2",
   "language": "python",
   "name": "python2"
  },
  "language_info": {
   "codemirror_mode": {
    "name": "ipython",
    "version": 2
   },
   "file_extension": ".py",
   "mimetype": "text/x-python",
   "name": "python",
   "nbconvert_exporter": "python",
   "pygments_lexer": "ipython2",
   "version": "2.7.12"
  }
 },
 "nbformat": 4,
 "nbformat_minor": 1
}
