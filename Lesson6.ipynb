{
 "cells": [
  {
   "cell_type": "markdown",
   "metadata": {},
   "source": [
    "#### *Lesson 6*\n",
    "# Sorting"
   ]
  },
  {
   "cell_type": "markdown",
   "metadata": {},
   "source": [
    "**Task 1: Distinct**\n",
    "\n",
    "Write a function\n",
    "\n",
    "```python\n",
    "def solution(A)\n",
    "```\n",
    "\n",
    "that, given a zero-indexed array A consisting of N integers, returns the number of distinct values in array A.\n",
    "\n",
    "Assume that:\n",
    "\n",
    "* N is an integer within the range [0..100,000];\n",
    "* each element of array A is an integer within the range [−1,000,000..1,000,000].\n",
    "\n",
    "For example, given array A consisting of six elements such that:\n",
    "\n",
    "     A[0] = 2    A[1] = 1    A[2] = 1\n",
    "     A[3] = 2    A[4] = 3    A[5] = 1\n",
    "\n",
    "the function should return 3, because there are 3 distinct values appearing in array A, namely 1, 2 and 3.\n",
    "\n",
    "Complexity:\n",
    "\n",
    "* expected worst-case time complexity is O(N*log(N));\n",
    "* expected worst-case space complexity is O(N), beyond input storage (not counting the storage required for input arguments).\n",
    "\n",
    "Elements of input arrays can be modified.\n",
    "\n",
    "*Copyright 2009–2016 by Codility Limited. All Rights Reserved. Unauthorized copying, publication or disclosure prohibited.*"
   ]
  },
  {
   "cell_type": "markdown",
   "metadata": {},
   "source": [
    "**Solution (test score: 100%):**"
   ]
  },
  {
   "cell_type": "code",
   "execution_count": 1,
   "metadata": {
    "collapsed": true
   },
   "outputs": [],
   "source": [
    "def solution(A):\n",
    "    d = set()\n",
    "    for i in xrange(len(A)):\n",
    "        if A[i] not in d:\n",
    "            d.add(A[i])\n",
    "    return len(d)"
   ]
  },
  {
   "cell_type": "markdown",
   "metadata": {},
   "source": [
    "Detected time complexity: **O(N*log(N))** or **O(N)**"
   ]
  },
  {
   "cell_type": "markdown",
   "metadata": {},
   "source": [
    "**Examples:**"
   ]
  },
  {
   "cell_type": "code",
   "execution_count": 2,
   "metadata": {
    "collapsed": false
   },
   "outputs": [
    {
     "data": {
      "text/plain": [
       "3"
      ]
     },
     "execution_count": 2,
     "metadata": {},
     "output_type": "execute_result"
    }
   ],
   "source": [
    "solution([2, 1, 1, 2, 3, 1])"
   ]
  },
  {
   "cell_type": "code",
   "execution_count": 3,
   "metadata": {
    "collapsed": false
   },
   "outputs": [
    {
     "data": {
      "text/plain": [
       "0"
      ]
     },
     "execution_count": 3,
     "metadata": {},
     "output_type": "execute_result"
    }
   ],
   "source": [
    "solution([])"
   ]
  },
  {
   "cell_type": "code",
   "execution_count": 4,
   "metadata": {
    "collapsed": false
   },
   "outputs": [
    {
     "data": {
      "text/plain": [
       "1"
      ]
     },
     "execution_count": 4,
     "metadata": {},
     "output_type": "execute_result"
    }
   ],
   "source": [
    "solution([5])"
   ]
  },
  {
   "cell_type": "code",
   "execution_count": 5,
   "metadata": {
    "collapsed": false
   },
   "outputs": [
    {
     "data": {
      "text/plain": [
       "3"
      ]
     },
     "execution_count": 5,
     "metadata": {},
     "output_type": "execute_result"
    }
   ],
   "source": [
    "solution([1, 2, 3])"
   ]
  },
  {
   "cell_type": "markdown",
   "metadata": {},
   "source": [
    "**Task 2: Triangle**\n",
    "\n",
    "A zero-indexed array A consisting of N integers is given. A triplet (P, Q, R) is triangular if 0 ≤ P < Q < R < N and:\n",
    "\n",
    "* A[P] + A[Q] > A[R],\n",
    "* A[Q] + A[R] > A[P],\n",
    "* A[R] + A[P] > A[Q].\n",
    "\n",
    "For example, consider array A such that:\n",
    "\n",
    "    A[0] = 10    A[1] = 2    A[2] = 5\n",
    "    A[3] = 1     A[4] = 8    A[5] = 20\n",
    "\n",
    "Triplet (0, 2, 4) is triangular.\n",
    "\n",
    "Write a function:\n",
    "\n",
    "```python\n",
    "def solution(A)\n",
    "```\n",
    "\n",
    "that, given a zero-indexed array A consisting of N integers, returns 1 if there exists a triangular triplet for this array and returns 0 otherwise.\n",
    "\n",
    "For example, given array A such that:\n",
    "\n",
    "    A[0] = 10    A[1] = 2    A[2] = 5\n",
    "    A[3] = 1     A[4] = 8    A[5] = 20\n",
    "\n",
    "the function should return 1, as explained above. Given array A such that:\n",
    "\n",
    "    A[0] = 10    A[1] = 50    A[2] = 5\n",
    "    A[3] = 1\n",
    "\n",
    "the function should return 0.\n",
    "\n",
    "Assume that:\n",
    "\n",
    "* N is an integer within the range [0..100,000];\n",
    "* each element of array A is an integer within the range [−2,147,483,648..2,147,483,647].\n",
    "\n",
    "Complexity:\n",
    "\n",
    "* expected worst-case time complexity is O(N*log(N));\n",
    "* expected worst-case space complexity is O(N), beyond input storage (not counting the storage required for input arguments).\n",
    "\n",
    "Elements of input arrays can be modified.\n",
    "\n",
    "*Copyright 2009–2016 by Codility Limited. All Rights Reserved. Unauthorized copying, publication or disclosure prohibited.*"
   ]
  },
  {
   "cell_type": "markdown",
   "metadata": {},
   "source": [
    "**Solution (task score: 100%):**"
   ]
  },
  {
   "cell_type": "code",
   "execution_count": 6,
   "metadata": {
    "collapsed": true
   },
   "outputs": [],
   "source": [
    "def solution(A):\n",
    "    if len(A) < 3:\n",
    "        return 0\n",
    "    A.sort()\n",
    "    for i in xrange(len(A) - 2):\n",
    "        if A[i] + A[i + 1] > A[i + 2]:\n",
    "            return 1\n",
    "    return 0"
   ]
  },
  {
   "cell_type": "markdown",
   "metadata": {},
   "source": [
    "Detected time complexity: **O(N*log(N))**"
   ]
  },
  {
   "cell_type": "markdown",
   "metadata": {},
   "source": [
    "**Examples:**"
   ]
  },
  {
   "cell_type": "code",
   "execution_count": 7,
   "metadata": {
    "collapsed": false
   },
   "outputs": [
    {
     "data": {
      "text/plain": [
       "1"
      ]
     },
     "execution_count": 7,
     "metadata": {},
     "output_type": "execute_result"
    }
   ],
   "source": [
    "solution([10, 2, 5, 1, 8, 20])"
   ]
  },
  {
   "cell_type": "code",
   "execution_count": 9,
   "metadata": {
    "collapsed": false
   },
   "outputs": [
    {
     "data": {
      "text/plain": [
       "0"
      ]
     },
     "execution_count": 9,
     "metadata": {},
     "output_type": "execute_result"
    }
   ],
   "source": [
    "solution([10, 50, 5, 1])"
   ]
  },
  {
   "cell_type": "code",
   "execution_count": 10,
   "metadata": {
    "collapsed": false
   },
   "outputs": [
    {
     "data": {
      "text/plain": [
       "0"
      ]
     },
     "execution_count": 10,
     "metadata": {},
     "output_type": "execute_result"
    }
   ],
   "source": [
    "solution([2, 3])"
   ]
  },
  {
   "cell_type": "code",
   "execution_count": 11,
   "metadata": {
    "collapsed": false
   },
   "outputs": [
    {
     "data": {
      "text/plain": [
       "0"
      ]
     },
     "execution_count": 11,
     "metadata": {},
     "output_type": "execute_result"
    }
   ],
   "source": [
    "solution([-3, -3, -3])"
   ]
  },
  {
   "cell_type": "markdown",
   "metadata": {},
   "source": [
    "**Task 3: MaxProductOfThree**\n",
    "\n",
    "A non-empty zero-indexed array A consisting of N integers is given. The product of triplet (P, Q, R) equates to A[P] * A[Q] * A[R] (0 ≤ P < Q < R < N).\n",
    "\n",
    "For example, array A such that:\n",
    "\n",
    "    A[0] = -3\n",
    "    A[1] = 1\n",
    "    A[2] = 2\n",
    "    A[3] = -2\n",
    "    A[4] = 5\n",
    "    A[5] = 6\n",
    "\n",
    "contains the following example triplets:\n",
    "\n",
    "* (0, 1, 2), product is −3 * 1 * 2 = −6\n",
    "* (1, 2, 4), product is 1 * 2 * 5 = 10\n",
    "* (2, 4, 5), product is 2 * 5 * 6 = 60\n",
    "\n",
    "Your goal is to find the maximal product of any triplet.\n",
    "\n",
    "Write a function:\n",
    "\n",
    "```python\n",
    "def solution(A)\n",
    "```\n",
    "\n",
    "that, given a non-empty zero-indexed array A, returns the value of the maximal product of any triplet.\n",
    "\n",
    "For example, given array A such that:\n",
    "\n",
    "    A[0] = -3\n",
    "    A[1] = 1\n",
    "    A[2] = 2\n",
    "    A[3] = -2\n",
    "    A[4] = 5\n",
    "    A[5] = 6\n",
    "\n",
    "the function should return 60, as the product of triplet (2, 4, 5) is maximal.\n",
    "\n",
    "Assume that:\n",
    "\n",
    "* N is an integer within the range [3..100,000];\n",
    "* each element of array A is an integer within the range [−1,000..1,000].\n",
    "\n",
    "Complexity:\n",
    "\n",
    "* expected worst-case time complexity is O(N*log(N));\n",
    "* expected worst-case space complexity is O(1), beyond input storage (not counting the storage required for input arguments).\n",
    "\n",
    "Elements of input arrays can be modified.\n",
    "\n",
    "*Copyright 2009–2016 by Codility Limited. All Rights Reserved. Unauthorized copying, publication or disclosure prohibited.*"
   ]
  },
  {
   "cell_type": "markdown",
   "metadata": {},
   "source": [
    "**Solution (test score: 100%):**"
   ]
  },
  {
   "cell_type": "code",
   "execution_count": 12,
   "metadata": {
    "collapsed": true
   },
   "outputs": [],
   "source": [
    "def solution(A):\n",
    "    A.sort()\n",
    "    prod1 = A[0] * A[1] * A[len(A) - 1]\n",
    "    prod2 = A[len(A) - 3] * A[len(A) - 2] * A[len(A) - 1]\n",
    "    return prod1 if prod1 > prod2 else prod2"
   ]
  },
  {
   "cell_type": "markdown",
   "metadata": {},
   "source": [
    "Detected time complexity: **O(N * log(N))**"
   ]
  },
  {
   "cell_type": "markdown",
   "metadata": {},
   "source": [
    "**Examples:**"
   ]
  },
  {
   "cell_type": "code",
   "execution_count": 13,
   "metadata": {
    "collapsed": false
   },
   "outputs": [
    {
     "data": {
      "text/plain": [
       "60"
      ]
     },
     "execution_count": 13,
     "metadata": {},
     "output_type": "execute_result"
    }
   ],
   "source": [
    "solution([-3, 1, 2, -2, 5, 6])"
   ]
  },
  {
   "cell_type": "code",
   "execution_count": 14,
   "metadata": {
    "collapsed": false
   },
   "outputs": [
    {
     "data": {
      "text/plain": [
       "30"
      ]
     },
     "execution_count": 14,
     "metadata": {},
     "output_type": "execute_result"
    }
   ],
   "source": [
    "solution([3, 2, 5])"
   ]
  },
  {
   "cell_type": "code",
   "execution_count": 18,
   "metadata": {
    "collapsed": false
   },
   "outputs": [
    {
     "data": {
      "text/plain": [
       "40"
      ]
     },
     "execution_count": 18,
     "metadata": {},
     "output_type": "execute_result"
    }
   ],
   "source": [
    "solution([-1, 8, -5, 2, 1])"
   ]
  },
  {
   "cell_type": "code",
   "execution_count": 19,
   "metadata": {
    "collapsed": false
   },
   "outputs": [
    {
     "data": {
      "text/plain": [
       "-6"
      ]
     },
     "execution_count": 19,
     "metadata": {},
     "output_type": "execute_result"
    }
   ],
   "source": [
    "solution([-5, -7, -1, -3, -2])"
   ]
  }
 ],
 "metadata": {
  "kernelspec": {
   "display_name": "Python 2",
   "language": "python",
   "name": "python2"
  },
  "language_info": {
   "codemirror_mode": {
    "name": "ipython",
    "version": 2
   },
   "file_extension": ".py",
   "mimetype": "text/x-python",
   "name": "python",
   "nbconvert_exporter": "python",
   "pygments_lexer": "ipython2",
   "version": "2.7.12"
  }
 },
 "nbformat": 4,
 "nbformat_minor": 1
}
